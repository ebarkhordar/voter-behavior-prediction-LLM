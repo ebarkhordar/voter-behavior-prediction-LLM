{
  "nbformat": 4,
  "nbformat_minor": 0,
  "metadata": {
    "colab": {
      "provenance": []
    },
    "kernelspec": {
      "name": "python3",
      "display_name": "Python 3"
    },
    "language_info": {
      "name": "python"
    }
  },
  "cells": [
    {
      "cell_type": "code",
      "source": [
        "import json\n",
        "import pandas as pd"
      ],
      "metadata": {
        "id": "JQRATgcuu8eY"
      },
      "execution_count": 1,
      "outputs": []
    },
    {
      "cell_type": "code",
      "source": [
        "from google.colab import drive\n",
        "drive.mount('/content/drive')"
      ],
      "metadata": {
        "colab": {
          "base_uri": "https://localhost:8080/"
        },
        "id": "ToP9dwxpvmN9",
        "outputId": "e40e2275-edfd-4973-fb8e-2bc83a7fe000"
      },
      "execution_count": 2,
      "outputs": [
        {
          "output_type": "stream",
          "name": "stdout",
          "text": [
            "Drive already mounted at /content/drive; to attempt to forcibly remount, call drive.mount(\"/content/drive\", force_remount=True).\n"
          ]
        }
      ]
    },
    {
      "cell_type": "code",
      "source": [
        "%cd drive/MyDrive/voter-behavior-prediction-LLM/"
      ],
      "metadata": {
        "colab": {
          "base_uri": "https://localhost:8080/"
        },
        "id": "Tt0PGXjAvsew",
        "outputId": "e8e804db-686a-4beb-f150-bea924d0edee"
      },
      "execution_count": 3,
      "outputs": [
        {
          "output_type": "stream",
          "name": "stdout",
          "text": [
            "/content/drive/MyDrive/voter-behavior-prediction-LLM\n"
          ]
        }
      ]
    },
    {
      "cell_type": "code",
      "source": [
        "# Constants\n",
        "SAMPLE_SIZE = 90\n",
        "RANDOM_STATE = 42"
      ],
      "metadata": {
        "id": "UX9_mZQLvXyg"
      },
      "execution_count": 4,
      "outputs": []
    },
    {
      "cell_type": "code",
      "source": [
        "# Load the predictions from the JSON file\n",
        "file_name = \"results_gpt-3.5-turbo-0125_20240519153306.json\"\n",
        "with open(file_name, 'r', encoding='utf-8') as file:\n",
        "    predictions = json.load(file)"
      ],
      "metadata": {
        "id": "Rg0Xj5uwu-Q8"
      },
      "execution_count": 5,
      "outputs": []
    },
    {
      "cell_type": "code",
      "source": [
        "# Function to determine the final prediction based on the majority vote from the prompts\n",
        "def majority_vote(predictions):\n",
        "    votes = [predictions['prompt1'], predictions['prompt2'], predictions['prompt3']]\n",
        "    vote_count = {candidate: votes.count(candidate) for candidate in set(votes)}\n",
        "    # Get the candidate with the most votes; in case of tie, it picks the first one it encounters\n",
        "    final_prediction = max(vote_count, key=vote_count.get)\n",
        "    return final_prediction\n",
        "\n",
        "# Prepare the predictions DataFrame\n",
        "predictions_df = pd.DataFrame([\n",
        "    {'username': user, 'predicted_candidate': majority_vote(pred)}\n",
        "    for user, pred in predictions.items()\n",
        "])"
      ],
      "metadata": {
        "id": "VfPHHxtCvDJc"
      },
      "execution_count": 6,
      "outputs": []
    },
    {
      "cell_type": "code",
      "source": [
        "# Load survey data\n",
        "df_survey_data = pd.read_excel('survey.xlsx')\n",
        "print(\"Survey data loaded successfully.\")"
      ],
      "metadata": {
        "colab": {
          "base_uri": "https://localhost:8080/"
        },
        "id": "rKT1bTrvvhCc",
        "outputId": "53ce08a2-0d99-4fcf-a0d4-f9c6d44af665"
      },
      "execution_count": 7,
      "outputs": [
        {
          "output_type": "stream",
          "name": "stdout",
          "text": [
            "Survey data loaded successfully.\n"
          ]
        }
      ]
    },
    {
      "cell_type": "code",
      "execution_count": 8,
      "metadata": {
        "colab": {
          "base_uri": "https://localhost:8080/"
        },
        "id": "8UzZbtbOt4w-",
        "outputId": "ef0dbac1-b97e-4980-89d9-6371cc781ce0"
      },
      "outputs": [
        {
          "output_type": "stream",
          "name": "stdout",
          "text": [
            "Precision: 0.6961325966850829\n",
            "Recall: 1.0\n",
            "F1 Score: 0.8208469055374593\n"
          ]
        }
      ],
      "source": [
        "# Normalize candidate names to a common format\n",
        "def normalize_candidate_name(name):\n",
        "    name = name.lower()\n",
        "    if 'kılıçdaroğlu' in name:\n",
        "        return 'kılıçdaroğlu'\n",
        "    elif 'erdoğan' in name:\n",
        "        return 'erdoğan'\n",
        "    return name\n",
        "\n",
        "# Ensure the 'username' in combined_samples is the correct column name to join on\n",
        "merged_data = df_survey_data.merge(predictions_df, on='username', how='right')\n",
        "\n",
        "# Normalize the candidate names in both true and predicted labels\n",
        "merged_data['true_candidate'] = merged_data['CB 2. Tur'].apply(normalize_candidate_name)  # Adjust this to your actual true labels column name\n",
        "merged_data['predicted_candidate'] = merged_data['predicted_candidate'].apply(normalize_candidate_name)\n",
        "\n",
        "# Adjust this function to explicitly check for each candidate\n",
        "def evaluate_prediction(row):\n",
        "    true_cand = row['true_candidate']\n",
        "    predicted_cand = row['predicted_candidate']\n",
        "\n",
        "    if pd.notna(predicted_cand):\n",
        "        if true_cand == predicted_cand:\n",
        "            return 'TP'\n",
        "        else:\n",
        "            return 'FP'\n",
        "    return 'FN'\n",
        "\n",
        "merged_data['result'] = merged_data.apply(evaluate_prediction, axis=1)\n",
        "tp = (merged_data['result'] == 'TP').sum()\n",
        "fp = (merged_data['result'] == 'FP').sum()\n",
        "fn = (merged_data['result'] == 'FN').sum()\n",
        "\n",
        "# Calculate precision, recall, and F1 score\n",
        "precision = tp / (tp + fp) if tp + fp > 0 else 0\n",
        "recall = tp / (tp + fn) if tp + fn > 0 else 0\n",
        "f1 = 2 * (precision * recall) / (precision + recall) if precision + recall > 0 else 0\n",
        "\n",
        "print(\"Precision:\", precision)\n",
        "print(\"Recall:\", recall)\n",
        "print(\"F1 Score:\", f1)"
      ]
    }
  ]
}